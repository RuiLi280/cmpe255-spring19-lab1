{
 "cells": [
  {
   "cell_type": "code",
   "execution_count": 1,
   "metadata": {},
   "outputs": [],
   "source": [
    "users = [\n",
    "    {\"id\": 0, \"name\": \"Hero\"},\n",
    "    {\"id\": 1, \"name\": \"Dunn\"},\n",
    "    {\"id\": 2, \"name\": \"Sue\"},\n",
    "    {\"id\": 3, \"name\": \"Chi\"},\n",
    "    {\"id\": 4, \"name\": \"Thor\"},\n",
    "    {\"id\": 5, \"name\": \"Clive\"},\n",
    "    {\"id\": 6, \"name\": \"Hicks\"},\n",
    "    {\"id\": 7, \"name\": \"Devin\"},\n",
    "    {\"id\": 8, \"name\": \"Kate\"},\n",
    "    {\"id\": 9, \"name\": \"Klein\"}\n",
    "]\n",
    "\n",
    "friendship = [\n",
    "    (0, 1),\n",
    "    (0, 2),\n",
    "    (1, 2),\n",
    "    (1, 3),\n",
    "    (2, 3),\n",
    "    (3, 4),\n",
    "    (4, 5),\n",
    "    (5, 6),\n",
    "    (6, 7),\n",
    "    (6, 8),\n",
    "    (7, 8),\n",
    "    (8, 9)\n",
    "]\n"
   ]
  },
  {
   "cell_type": "code",
   "execution_count": 2,
   "metadata": {},
   "outputs": [],
   "source": [
    "def num_friends(user):\n",
    "    '''\n",
    "    Find number of friends for a given user\n",
    "    '''\n",
    "    count = 0\n",
    "    for f in friendship:\n",
    "        if user in f:\n",
    "            count += 1\n",
    "    return count\n",
    "\n"
   ]
  },
  {
   "cell_type": "code",
   "execution_count": 3,
   "metadata": {},
   "outputs": [],
   "source": [
    "def sort_by_num_friends():\n",
    "    '''README.md\n",
    "    Sort from \"most friends\" to \"least friends\"\n",
    "    '''\n",
    "    num_friends_list = []\n",
    "    for user in users:\n",
    "        id = user[\"id\"]\n",
    "        name = user[\"name\"]\n",
    "        friends = num_friends(id)\n",
    "        num_friends_list.append({\"name\": name, \"num_friends\": friends})\n",
    "\n",
    "    sorted_list = sorted(\n",
    "        num_friends_list, key=lambda k: k[\"num_friends\"], reverse=True)\n",
    "\n",
    "    for user in sorted_list:\n",
    "        print(\"%s has %d friends\" % (user[\"name\"], user[\"num_friends\"]))\n",
    "\n"
   ]
  },
  {
   "cell_type": "code",
   "execution_count": 4,
   "metadata": {},
   "outputs": [
    {
     "name": "stdout",
     "output_type": "stream",
     "text": [
      "Dunn has 3 friends\n",
      "Sue has 3 friends\n",
      "Chi has 3 friends\n",
      "Hicks has 3 friends\n",
      "Kate has 3 friends\n",
      "Hero has 2 friends\n",
      "Thor has 2 friends\n",
      "Clive has 2 friends\n",
      "Devin has 2 friends\n",
      "Klein has 1 friends\n"
     ]
    }
   ],
   "source": [
    "sort_by_num_friends()"
   ]
  },
  {
   "cell_type": "code",
   "execution_count": null,
   "metadata": {},
   "outputs": [],
   "source": []
  }
 ],
 "metadata": {
  "kernelspec": {
   "display_name": "Python 3",
   "language": "python",
   "name": "python3"
  },
  "language_info": {
   "codemirror_mode": {
    "name": "ipython",
    "version": 3
   },
   "file_extension": ".py",
   "mimetype": "text/x-python",
   "name": "python",
   "nbconvert_exporter": "python",
   "pygments_lexer": "ipython3",
   "version": "3.6.5"
  }
 },
 "nbformat": 4,
 "nbformat_minor": 2
}
